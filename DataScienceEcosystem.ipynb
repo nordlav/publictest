{
 "cells": [
  {
   "cell_type": "markdown",
   "id": "dd164398-c724-430e-9e56-e19474c52747",
   "metadata": {},
   "source": [
    "<h1>Data Science Tools and Ecosystem<h1>"
   ]
  },
  {
   "cell_type": "markdown",
   "id": "a08898b0-d97a-4655-a3f2-52725b4ccf8d",
   "metadata": {},
   "source": [
    "In this notebook, Data Science Tools and Ecosystem are summarized, but not very well."
   ]
  },
  {
   "cell_type": "markdown",
   "id": "6ee17a95-6911-429c-a3bf-9bdc33a07fb9",
   "metadata": {},
   "source": [
    "Some of the popular languages that Data Scientists use are:\n",
    "1. python. \n",
    "1. R. \n",
    "1. SQL. \n",
    "\n"
   ]
  },
  {
   "cell_type": "markdown",
   "id": "b2de7272-62fc-48ad-8582-d7d62cdad73f",
   "metadata": {},
   "source": [
    "Some of the commonly used libraries used by Data Scientists include:\n",
    "1. mathplotlib. \n",
    "1. seaborn.\n",
    "1. keras. \n"
   ]
  },
  {
   "cell_type": "markdown",
   "id": "3e02edd1-1dc5-4f9b-bbe1-eed02459c53c",
   "metadata": {},
   "source": [
    "|Data Science Tools|\n",
    "|:--------:|\n",
    "|Weka|\n",
    "|Apache MLlib|\n",
    "|Deeplearning4|"
   ]
  },
  {
   "cell_type": "markdown",
   "id": "cd9af876-144a-4508-bda4-1f4f5ff82c9c",
   "metadata": {},
   "source": [
    "<h3>Below are a few examples of evaluating arithmetic expressions in Python<h3>\n",
    "    \n",
    "1. **, for exponentiation.\n",
    "2. //, for integer division\n",
    "3. %, for modulus\n",
    "    \n",
    "you can also use eval() to compute a specific string called within the ()\n",
    "    \n",
    "    \n"
   ]
  },
  {
   "cell_type": "code",
   "execution_count": null,
   "id": "faf4f1a2-a0ef-42b7-80d2-5179eb27e08e",
   "metadata": {},
   "outputs": [],
   "source": []
  }
 ],
 "metadata": {
  "kernelspec": {
   "display_name": "Python",
   "language": "python",
   "name": "conda-env-python-py"
  },
  "language_info": {
   "codemirror_mode": {
    "name": "ipython",
    "version": 3
   },
   "file_extension": ".py",
   "mimetype": "text/x-python",
   "name": "python",
   "nbconvert_exporter": "python",
   "pygments_lexer": "ipython3",
   "version": "3.7.12"
  }
 },
 "nbformat": 4,
 "nbformat_minor": 5
}
